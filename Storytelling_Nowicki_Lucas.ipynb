{
 "cells": [
  {
   "attachments": {},
   "cell_type": "markdown",
   "metadata": {},
   "source": [
    "# Storytelling:\n",
    "\n",
    "A continuación se procederá a utilizar una empresa de videojuegos ficticia para intentar responder las preguntas e hipótesis de interés.\n"
   ]
  },
  {
   "attachments": {},
   "cell_type": "markdown",
   "metadata": {},
   "source": [
    "###### Caso GameTechno:\n",
    "\n",
    "Una empresa de videojuegos llamada GameTechno quería entender mejor el mercado global de videojuegos y mejorar su posición en él. Sabían que para lograrlo, debían responder a algunas preguntas importantes, como: **¿Qué factores influyen en la popularidad y las ventas de los videojuegos? ¿Existe una relación entre el género de los videojuegos y los gustos de los videojuegos? ¿Existe una correlación entre la calificación de los videojuegos y sus ventas? Y, en relación al lanzamiento exclusivo de videojuegos, ¿es más rentable el lanzamiento únicamente en Norteamérica o en otra región?** entre otras cuestiones importantes.\n",
    "\n",
    "GameTechno decidió investigar utilizando un conjunto de datos extraidos de Kaggle que tenía información sobre ventas de videojuegos de todo el mundo. Al analizar los datos, descubrieron que los videojuegos de acción eran los más populares en América y Europa, mientras que los juegos de estrategia eran los más populares en Asia. Además, los videojuegos de deportes eran populares en todo el mundo, pero especialmente en América del Norte.\n",
    "\n",
    "GameTechno también descubrió que la edad media de los jugadores era de alrededor de 35 años, y que los hombres eran una mayoría significativa de los jugadores. Sin embargo, también encontraron que los juegos de deportes eran populares tanto entre hombres como mujeres, lo que sugiere que hay oportunidades para expandir la audiencia de los videojuegos más allá de los estereotipos de género.\n",
    "\n",
    "En cuanto al análisis de consolas, GameTechno descubrió que las consolas PlayStation y Xbox eran las más populares, y que los juegos exclusivos para estas consolas tenían una mayor demanda. También notaron que los juegos en línea estaban creciendo en popularidad, lo que sugiere que pueden tener un impacto positivo en las ventas de videojuegos y lo cual sería una buena oportunidad de desarrollo.\n",
    "\n",
    "Con respecto a la correlación entre la calificación de los videojuegos y las ventas, GameTechno descubrió que había una correlación positiva. Los juegos con calificaciones más altas tenían más ventas, lo que sugiere que los jugadores confían en las opiniones de los expertos y de la comunidad.\n",
    "\n",
    "Por último, en cuanto a la pregunta sobre el lanzamiento exclusivo de videojuegos, GameTechno llegó a la conclusión de que el mercado Norteamericano representaba el mayor porcentaje de las ventas a nivel global en videojuegos. Sin embargo, también encontraron que lanzar videojuegos exclusivamente en Norteamérica no necesariamente era más rentable que lanzarlos en otras regiones. En cambio, descubrieron que era más importante adaptarse a las preferencias y hábitos de compra de los jugadores en cada región.\n",
    "\n",
    "En resumen, GameTechno pudo comprender de mejor manera el mercado global de videojuegos y encontrar oportunidades para mejorar su posición en él gracias a su investigación. \n",
    "\n",
    "Con esta nueva comprensión del mercado de videojuegos global, GameTechno pudo tomar decisiones informadas sobre el diseño de sus próximos juegos, las plataformas de lanzamiento y las regiones objetivo. A raíz de ello, decidieron lanzar un juego de estrategia en Asia (un JRPG o Japanesse RPG), que resultó ser un éxito en ventas, y también lanzaron una versión en línea de uno de sus juegos más populares. Además, se dieron cuenta de que tenían una oportunidad de llegar a un público más amplio al crear juegos que atraigan a los jugadores que busquen competitividad en el gaming.\n",
    "\n",
    "Gracias a su análisis de datos y su comprensión del mercado global de videojuegos, GameTechno pudo mejorar su posición en el mercado y aumentar sus ventas. Ahora son conocidos por crear juegos populares y adaptados a las preferencias de los jugadores en todo el mundo."
   ]
  }
 ],
 "metadata": {
  "kernelspec": {
   "display_name": "Python 3",
   "language": "python",
   "name": "python3"
  },
  "language_info": {
   "name": "python",
   "version": "3.9.10"
  },
  "orig_nbformat": 4
 },
 "nbformat": 4,
 "nbformat_minor": 2
}
